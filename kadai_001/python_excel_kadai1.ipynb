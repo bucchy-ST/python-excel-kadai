{
  "nbformat": 4,
  "nbformat_minor": 0,
  "metadata": {
    "colab": {
      "provenance": []
    },
    "kernelspec": {
      "name": "python3",
      "display_name": "Python 3"
    },
    "language_info": {
      "name": "python"
    }
  },
  "cells": [
    {
      "cell_type": "code",
      "execution_count": 3,
      "metadata": {
        "id": "SRDoIVF9w8Q7"
      },
      "outputs": [],
      "source": [
        "import openpyxl\n",
        "from datetime import datetime\n",
        "\n",
        "workbook = openpyxl.Workbook()\n",
        "today = datetime.today()\n",
        "backup_filename = f\"請求書_{today.strftime('%Y%m%d')}.xlsx\"\n",
        "workbook.save(backup_filename)\n",
        "\n",
        "ws = workbook.active\n",
        "\n",
        "ws['B2'] = '請求書'\n",
        "ws['G4'] = '0001'\n",
        "ws['G4'].number_format = '@'\n",
        "ws['F4'] = 'No.'\n",
        "ws['F5'] = '日付'\n",
        "\n",
        "\n",
        "today = datetime.now().strftime('%Y/%m/%d')\n",
        "ws['G5'] = today\n",
        "\n",
        "data = {\n",
        "    'B4': '株式会社ABC',\n",
        "    'B5': '〒101-0022 東京都千代田区神田練塀町300',\n",
        "    'B6': 'TEL:03-1234-5678 FAX:03-1234-5678',\n",
        "    'B7': '担当者名:鈴木一郎 様',\n",
        "    'B8': '商品名',\n",
        "    'B9': '商品A',\n",
        "    'B10': '商品B',\n",
        "    'B11': '合計',\n",
        "    'B12': '消費税',\n",
        "    'B13': '税込合計'\n",
        "}\n",
        "\n",
        "for cell, value in data.items():\n",
        "    ws[cell] = value\n",
        "\n",
        "ws.insert_rows(8, 2)\n",
        "ws.insert_rows(13, 2)\n",
        "\n",
        "ws['C10'] = '数量'\n",
        "ws['D10'] = '単価'\n",
        "ws['E10'] = '金額'\n",
        "\n",
        "cul = {\n",
        "    'E11': '= C11 * D11',\n",
        "    'E12': '= C12 * D12',\n",
        "    'E13': '= E11 + E12',\n",
        "    'E15': '= E11 + E12',\n",
        "    'E16': '= E15 * 0.1',\n",
        "    'E17': '= E15 + E16'\n",
        "}\n",
        "\n",
        "for cell, value in cul.items():\n",
        "    ws[cell] = value\n",
        "\n",
        "\n",
        "workbook.save(backup_filename)"
      ]
    }
  ]
}