{
  "nbformat": 4,
  "nbformat_minor": 0,
  "metadata": {
    "colab": {
      "provenance": []
    },
    "kernelspec": {
      "name": "python3",
      "display_name": "Python 3"
    },
    "language_info": {
      "name": "python"
    }
  },
  "cells": [
    {
      "cell_type": "code",
      "execution_count": 1,
      "metadata": {
        "id": "s6lhwHiqZamE"
      },
      "outputs": [],
      "source": [
        "# Excelファイルをアップロード\n",
        "import pandas as pd\n",
        "\n",
        "# セルの色を変えるためにopenpyxlをインポートして設定する。\n",
        "from openpyxl import load_workbook\n",
        "from openpyxl.styles import PatternFill\n",
        "\n",
        "# 2022年のデータを連想配列で定義する。\n",
        "data_2022 = {\n",
        "    '売上年': [2022, 2022, 2022, 2022, 2022, 2022, 2022, 2022, 2022, 2022, 2022],\n",
        "    '商品': ['紅茶', 'ハチミツ', 'セッケン', '紅茶', 'アロマキャンドル', 'ハチミツ', 'ハチミツ', 'ワイングラス',\n",
        "           'アロマキャンドル', '包丁', '水筒'],\n",
        "    '金額（千円）': [1200, 1000, 1300, 800, 900, 300, 560, 850, 810, 940, 1150]\n",
        "}\n",
        "\n",
        "# 2023年のデータを連想配列で定義する。\n",
        "data_2023 = {\n",
        "    '売上年': [2023, 2023, 2023, 2023, 2023, 2023, 2023, 2023, 2023, 2023, 2023],\n",
        "    '商品': ['紅茶', 'ハチミツ', '水筒', 'コーヒー豆', 'セッケン', '紅茶', 'アロマキャンドル', 'ワイングラス',\n",
        "           '包丁', 'フライパン', '水筒'],\n",
        "    '金額（千円）': [1200, 1000, 250, 860, 1300, 670, 900, 850, 940, 670, 1150]\n",
        "}\n",
        "\n",
        "# データフレームを作成（表を作る）\n",
        "df_2022 = pd.DataFrame(data_2022)\n",
        "df_2023 = pd.DataFrame(data_2023)\n",
        "\n",
        "# データを連結\n",
        "dfconcate = pd.concat([df_2022, df_2023], ignore_index=True)\n",
        "\n",
        "# 「商品」「売上年」ごとにグループ化して「合計金額」に集約\n",
        "result = dfconcate.groupby(['商品', '売上年'])['金額（千円）'].sum().reset_index()\n",
        "\n",
        "result.to_excel('売上集計表.xlsx', index=False)\n",
        "\n",
        "# セルの色を変える動作\n",
        "workbook = load_workbook('売上集計表.xlsx')\n",
        "sheet = workbook.active\n",
        "\n",
        "sheet['A1'].fill = PatternFill(patternType='solid', fgColor='F2F2F2')\n",
        "sheet['B1'].fill = PatternFill(patternType='solid', fgColor='F2F2F2')\n",
        "sheet['C1'].fill = PatternFill(patternType='solid', fgColor='F2F2F2')\n",
        "\n",
        "# 変更を保存\n",
        "workbook.save('売上集計表.xlsx')"
      ]
    }
  ]
}